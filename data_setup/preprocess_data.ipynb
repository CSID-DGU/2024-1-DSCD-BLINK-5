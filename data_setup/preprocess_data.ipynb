{
 "cells": [
  {
   "cell_type": "markdown",
   "id": "c5c09dd5-6ad2-4738-976c-900da8947c85",
   "metadata": {},
   "source": [
    "* KOSPI\n",
    "  - 시작 날짜 : 1990-01-03\n",
    "  - 누락데이터 : 475150\n",
    "  - 전체데이터 있는것 : stock_data/kr_db/KOSPI/000020.csv\n",
    "\n",
    "* KOSDAQ\n",
    "  - 시작 날짜 : 1996-07-01\n",
    "  - 누락데이터 : 084440F, 105760, 199550, 420570, 437730, 469900, 472850\n",
    "  - 전체데이터 있는것 : stock_data/kr_db/KOSDAQ/000440.csv\n",
    "\n",
    "* NASDAQ\n",
    "  - 시작 날짜 : 1962-01-02\n",
    "  - 누락데이터 : AFJK AITR AVBP BCG BTSG BTSGU CCTG CLBTW CORZ CSSEL DHAI DWACW DYCQU EPRX FBLG GGROW GRDI GUTS HLXB HTZWW IROH JTAIW JVSAU KPLTW KSPI KYTX LDTCW LGCL MGX ORGNW OXBRW PLMJU RUMBW SMXT SUGP SYTAW TEDU TELO TMKRU WETH XOSWW ZOOZ ZPTA\n",
    "  - 전체데이터 있는것 : stock_data/us_db/NASDAQ/AEP.csv\n",
    "\n",
    "* NYSE\n",
    "  - 시작 날짜 : 1962-01-02\n",
    "  - 누락데이터 : AACT_u ABR_pd ABR_pe ABR_pf ACHR_t ACP_pa ACR_pc ACR_pd ADRT_u AEVA_t AGM_pc AGM_pd AGM_pe AGM_pf AGM_pg AGMa AHH_pa AHL_pc AHL_pd AHT_pd AHT_pf AHT_pg AHT_ph AHT_pi AKOa AKOb ALL_pb AL_pa AMH_pg AMH_ph ANRO APCA_u APO_pa ARR_pc AS ATCO_pd ATCO_ph ATEK_u ATH_pe AULT_pd AXIL AXS_pe BAC_pe BAC_pl BAC_pm BCV_pa BC_pa BC_pb BC_pc BEP_pa BFAC_u BFa BFb BHR_pd BIOb BIP_pa BIP_pb BITE_u BLUA_u BML_pg BML_ph BML_pj BML_pl BNREa BRKa BRKb BW_pa CADE_pa CDR_pb CDR_pc CHMI_pa CHMI_pb CIGc CIM_pa CIM_pb CIM_pc CIM_pd CIO_pa CLBR CLBR_u CLDT_pa CMRE_pb CMRE_pc CMRE_pd CMRE_pe CMS_pb CNDA_u CODI_pa CODI_pb CODI_pc CORR_pa CRDa CSR_pc CTA_pa CTA_pb CTO_pa CUBI_pe CUBI_pf CWENa C_pn DBRG_ph DBRG_pi DBRG_pj DLNG_pa DLNG_pb DLR_pj DLR_pk DLR_pl DMYY_u DRH_pa DSAQ_u DSX_pb DX_pc EBRb ECC_pd ECF_pa EFC_pa EFC_pb EFC_pc EFC_pd EFC_pe EPR_pe EPR_pg EP_pc EQC_pd EQH_pc ETI_p ET_pe ET_pi EVE_u FBRT_pe FRT_pc F_pb F_pc GAB_pg GAB_ph GAB_pk GAM_pb GDL_pc GDV_ph GDV_pk GEFb GEHI GEV GGN_pb GGT_pe GGT_pg GLOG_pa GLOP_pa GLOP_pb GLOP_pc GLP_pa GLP_pb GLTA GLU_pa GLU_pb GMRE_pa GNL_pa GNL_pb GNT_pa GPMT_pa GRP_u GSL_pb GS_pa GS_pc GS_pd GS_pk GTLS_pb GTNa GUT_pc HAFN HEIa HFRO_pa HIPO_t HL_pb HPP_pc HVTa HWM_p HYAC_u ICR_pa IFIN_u IIPR_pa INN_pe INN_pf IVR_pb IVR_pc JOBY_t JPM_pc JPM_pj JWSM_u KCGI_u KEY_pi KIM_pl KREF_pa LAC_w LCW_u LEGT_u LENb LEV_t LFT_pa LGFa LGFb LPA LXP_pc MAA_pi MDV_pa MER_pk MET_pa MFA_pb MFA_pc MITT_pa MITT_pb MITT_pc MKCv MNTN_u MOGa MOGb MS_pa MS_pe MS_pf MS_pi MS_pk MTB_ph NCV_pa NCZ_pa NEE_pn NFYS_u NGL_pb NGL_pc NLY_pf NLY_pg NLY_pi NREF_pa NSA_pa NS_pa NS_pb NS_pc NXDT_pa NYCB_pu OAK_pa OAK_pb OPP_pa OPP_pb OSI_u OXY_t O_p PBRa PCG_pa PCG_pb PCG_pc PCG_pd PCG_pe PCG_pg PCG_ph PCG_pi PEB_pe PEB_pf PEB_pg PEB_ph PGSS_u PHGE_u PHYT_u PMT_pa PMT_pb PMT_pc PRE_pj PRIF_pd PRIF_pf PRIF_pg PRIF_ph PRIF_pi PRIF_pj PRIF_pk PRIF_pl PSA_pf PSA_pg PSBD PSEC_pa PSFE_t PW_pa QBTS_t RCFA_u RC_pc RC_pe RDDT REXR_pb REXR_pc RF_pb RF_pc RHE_pa RITM_pa RITM_pb RITM_pc RITM_pd RIV_pa RJF_pb RLJ_pa RMPL_p RRAC_u RWT_pa RYDE SACH_pa SBXC_u SB_pc SB_pd SCE_pg SCE_ph SCE_pj SCE_pk SCE_pl SEAL_pa SEAL_pb SEDA_u SHO_ph SHO_pi SING SITC_pa SLG_pi SNV_pd SNV_pe SPG_pj SPLP_pa SPNT_pb SRG_pa STT_pg SYNX TAPa TBBB TCOA_u TNP_pe TNP_pf TRIS_u TRTL_u TRTN_pb TRTN_pc TRTN_pd TRTX_pc TWO_pa TWO_pb TWO_pc TY_p UHALb UMAC UMH_pd USB_pa USB_ph UWMC_t VCXB_u VNO_pl VNO_pm VNO_pn VNO_po WEL_u WFC_pl WFC_py WRB_pe WRB_pf WSOb XFLT_pa YCBD_pa\n",
    "  - 전체데이터 있는것 : stock_data/us_db/NYSE/AA.csv"
   ]
  },
  {
   "cell_type": "code",
   "execution_count": null,
   "id": "803c33cc-5009-4879-ac85-fa714b9e05ba",
   "metadata": {},
   "outputs": [],
   "source": [
    "import os\n",
    "from glob import glob\n",
    "from tqdm import tqdm\n",
    "import pandas as pd\n",
    "from datetime import datetime"
   ]
  },
  {
   "cell_type": "code",
   "execution_count": null,
   "id": "a0c6f115-2cb6-4337-9098-2c730a3ee89d",
   "metadata": {},
   "outputs": [],
   "source": [
    "BASE_DATA_DIR = 'stock_data'\n",
    "NATION = 'us' # 'kr', 'us'\n",
    "MARKET = 'NYSE' # 'KOSPI', 'KOSDAQ', 'NASDAQ', 'NYSE'\n",
    "DATA_DIR = f'{BASE_DATA_DIR}/{NATION}_db/{MARKET}/*.csv'\n",
    "CODE_LIST_CSV = f'{BASE_DATA_DIR}/{NATION}_list_final.csv'\n",
    "DATE_LIST = f'{BASE_DATA_DIR}/{MARKET}.txt'\n",
    "SAVE_DIR = f'{BASE_DATA_DIR}_refined/{NATION}_db/{MARKET}/'"
   ]
  },
  {
   "cell_type": "code",
   "execution_count": null,
   "id": "1b1c7d56-4fbd-478d-ac9a-802c86c35ff1",
   "metadata": {},
   "outputs": [],
   "source": [
    "with open(DATE_LIST, 'r') as file:\n",
    "    f = file.read()\n",
    "    date_list = f.split(',')"
   ]
  },
  {
   "cell_type": "code",
   "execution_count": null,
   "id": "ba97f613-5c75-452a-8ee0-294dc41acf56",
   "metadata": {},
   "outputs": [],
   "source": [
    "stock_code_list = pd.read_csv(CODE_LIST_CSV)\n",
    "stock_code_list = stock_code_list.query('거래소 == @MARKET')\n",
    "stock_code_list"
   ]
  },
  {
   "cell_type": "code",
   "execution_count": null,
   "id": "0bfe0f70-4608-415c-864d-6bc96f98012b",
   "metadata": {},
   "outputs": [],
   "source": [
    "item_list = sorted(glob(DATA_DIR))\n",
    "len(item_list)"
   ]
  },
  {
   "cell_type": "code",
   "execution_count": null,
   "id": "dab7277a-e108-49b4-95a5-3d0bf6b7ea2d",
   "metadata": {
    "scrolled": true
   },
   "outputs": [],
   "source": [
    "lossed_item_dir_list = []\n",
    "for item_dir in tqdm(item_list):\n",
    "    try:\n",
    "        item = pd.read_csv(item_dir)\n",
    "        date_flag = '날짜' if NATION == 'kr' else 'Date'\n",
    "        item[date_flag] = pd.to_datetime(item[date_flag])\n",
    "\n",
    "        market_dates = pd.to_datetime(date_list)\n",
    "        market_data = pd.DataFrame({date_flag: market_dates})\n",
    "\n",
    "        full_data = pd.merge(market_data, item, on=date_flag, how='left').fillna(0)\n",
    "        full_data.fillna(0, inplace=True)\n",
    "        full_data.to_csv(item_dir, index=False)\n",
    "    except:\n",
    "        print(item_dir)\n",
    "        lossed_item_dir_list.append(item_dir)\n",
    "        "
   ]
  },
  {
   "cell_type": "code",
   "execution_count": null,
   "id": "3998815f-4294-4578-a1f2-6e1d37bff49e",
   "metadata": {},
   "outputs": [],
   "source": [
    "# 결측 데이터 삭제\n",
    "# for item_dir in lossed_item_dir_list:\n",
    "#     print(item_dir)\n",
    "#     os.remove(item_dir)"
   ]
  },
  {
   "cell_type": "code",
   "execution_count": null,
   "id": "f807b874-4e06-42d1-be65-6a9a197d26a2",
   "metadata": {},
   "outputs": [],
   "source": [
    "# date_list = sorted(list(set(date_list)))\n",
    "# print(len(date_list) // 365)\n",
    "\n",
    "# with open(f'{MARKET}.txt', 'w+') as file:\n",
    "#     file.write(','.join(date_list))"
   ]
  },
  {
   "cell_type": "code",
   "execution_count": null,
   "id": "826bec46-b46a-436a-b634-55340f9a6bda",
   "metadata": {},
   "outputs": [],
   "source": []
  },
  {
   "cell_type": "code",
   "execution_count": null,
   "id": "c0faf97c-bb61-4083-8e6c-ba012d9b1690",
   "metadata": {},
   "outputs": [],
   "source": []
  },
  {
   "cell_type": "code",
   "execution_count": null,
   "id": "e8521ae9-c5d2-45fa-a7c9-8dd18a8bd846",
   "metadata": {},
   "outputs": [],
   "source": []
  },
  {
   "cell_type": "code",
   "execution_count": null,
   "id": "79a3e896-9706-44c4-b4a3-d91f64c45a1f",
   "metadata": {},
   "outputs": [],
   "source": []
  }
 ],
 "metadata": {
  "kernelspec": {
   "display_name": "Python 3 (ipykernel)",
   "language": "python",
   "name": "python3"
  },
  "language_info": {
   "codemirror_mode": {
    "name": "ipython",
    "version": 3
   },
   "file_extension": ".py",
   "mimetype": "text/x-python",
   "name": "python",
   "nbconvert_exporter": "python",
   "pygments_lexer": "ipython3",
   "version": "3.11.9"
  }
 },
 "nbformat": 4,
 "nbformat_minor": 5
}
