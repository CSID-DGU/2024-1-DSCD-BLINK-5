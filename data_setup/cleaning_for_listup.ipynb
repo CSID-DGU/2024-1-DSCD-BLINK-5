{
 "cells": [
  {
   "cell_type": "markdown",
   "metadata": {},
   "source": [
    "# 1. 한국 주식 리스팅 (섹터, 거래소 정보 포함)"
   ]
  },
  {
   "cell_type": "markdown",
   "metadata": {},
   "source": [
    "### investing.com에서 가져온 리스트/섹터 데이터, fdr에서 가져온 리스트 데이터 비교/전처리"
   ]
  },
  {
   "cell_type": "code",
   "execution_count": null,
   "metadata": {},
   "outputs": [],
   "source": [
    "import pandas as pd\n",
    "\n",
    "kosdaq_inv = pd.read_csv('stock_codes/kosdaq_list_inv.csv')\n",
    "kospi_inv = pd.read_csv('stock_codes/kospi_list_inv.csv')"
   ]
  },
  {
   "cell_type": "code",
   "execution_count": null,
   "metadata": {},
   "outputs": [],
   "source": [
    "# kosdaq_inv에 거래소 라는 컬럼을 추가하고 거래소 이름을 넣는다.\n",
    "kosdaq_inv['거래소'] = 'KOSDAQ'\n",
    "# kospi_inv에 거래소 라는 컬럼을 추가하고 거래소 이름을 넣는다.\n",
    "kospi_inv['거래소'] = 'KOSPI'\n",
    "# kosdaq_inv와 kospi_inv를 합친다.\n",
    "krx_inv = pd.concat([kosdaq_inv, kospi_inv])\n",
    "krx_inv.reset_index(drop=True, inplace=True)\n",
    "# krx_list_inv.csv로 저장한다.\n",
    "krx_inv.to_csv('stock_codes/krx_list_inv.csv', index=False)"
   ]
  },
  {
   "cell_type": "code",
   "execution_count": null,
   "metadata": {},
   "outputs": [],
   "source": [
    "krx_inv = pd.read_csv('stock_codes/krx_list_inv.csv')\n",
    "# 종목명, 기호, 거래소 컬럼만 남긴다.\n",
    "krx_inv = krx_inv[['종목명', '기호', '거래소']]\n",
    "krx_inv"
   ]
  },
  {
   "cell_type": "code",
   "execution_count": null,
   "metadata": {},
   "outputs": [],
   "source": [
    "krx_fdr = pd.read_csv('stock_codes/krx_list_fdr.csv')\n",
    "# krx_fdr의 Code에서 제일 뒤에서부터 3자리를 지운다.\n",
    "krx_fdr['Code'] = krx_fdr['Code'].str.slice(stop=-3)\n",
    "# Name, Code, Market 컬럼만 남긴다.\n",
    "krx_fdr = krx_fdr[['Name', 'Code', 'Market']]\n",
    "# Name 컬럼을 '종목명'으로, Code 컬럼을 '기호'로, Market 컬럼을 '거래소'로 바꾼다.\n",
    "krx_fdr.columns = ['종목명', '기호', '거래소']\n",
    "krx_fdr"
   ]
  },
  {
   "cell_type": "code",
   "execution_count": null,
   "metadata": {},
   "outputs": [],
   "source": [
    "# '기호'의 중복값을 확인한다.\n",
    "print(krx_inv['기호'].duplicated().sum())\n",
    "print(krx_fdr['기호'].duplicated().sum())\n",
    "\n",
    "# '종목명'의 중복값을 확인한다.\n",
    "print(krx_inv['종목명'].duplicated().sum())\n",
    "print(krx_fdr['종목명'].duplicated().sum())"
   ]
  },
  {
   "cell_type": "code",
   "execution_count": null,
   "metadata": {},
   "outputs": [],
   "source": [
    "# krx_inv에서 기호가 중복되는 행을 전부 보여준다.\n",
    "krx_inv[krx_inv['기호'].duplicated(keep=False)].sort_values('기호')"
   ]
  },
  {
   "cell_type": "code",
   "execution_count": null,
   "metadata": {},
   "outputs": [],
   "source": [
    "# krx_inv에서 '기호'의 중복값을 제거한다.\n",
    "krx_inv.drop_duplicates(subset='기호', keep='first', inplace=True)"
   ]
  },
  {
   "cell_type": "code",
   "execution_count": null,
   "metadata": {},
   "outputs": [],
   "source": [
    "# krx_inv에서 종목명이 중복되는 행을 전부 보여준다.\n",
    "krx_inv[krx_inv['종목명'].duplicated(keep=False)].sort_values('종목명')\n",
    "# -> 종목명은 같지만 종목코드가 다른 경우인데, 종목코드를 각각 검색 했을 때 전부 거래소에 존재하므로 둘 다 살린다."
   ]
  },
  {
   "cell_type": "code",
   "execution_count": null,
   "metadata": {},
   "outputs": [],
   "source": [
    "# null 값이 있는지 확인한다.\n",
    "print(krx_inv.isnull().sum())\n",
    "print(krx_fdr.isnull().sum())"
   ]
  },
  {
   "cell_type": "code",
   "execution_count": null,
   "metadata": {},
   "outputs": [],
   "source": [
    "# 거래소 값의 종류를 확인한다.\n",
    "print(krx_inv['거래소'].unique())\n",
    "print(krx_fdr['거래소'].unique())"
   ]
  },
  {
   "cell_type": "code",
   "execution_count": null,
   "metadata": {},
   "outputs": [],
   "source": [
    "# krx_fdr의 '거래소' 컬럼의 KOSDAQ GLOBAL을 KOSDAQ으로 바꾼다.\n",
    "krx_fdr['거래소'] = krx_fdr['거래소'].replace('KOSDAQ GLOBAL', 'KOSDAQ')"
   ]
  },
  {
   "cell_type": "code",
   "execution_count": null,
   "metadata": {},
   "outputs": [],
   "source": [
    "# krx_inv와 krx_fdr 비교\n",
    "print(krx_inv.shape)\n",
    "print(krx_fdr.shape)"
   ]
  },
  {
   "cell_type": "code",
   "execution_count": null,
   "metadata": {},
   "outputs": [],
   "source": [
    "# krx_inv의 기호와 krx_fdr의 기호를 비교.\n",
    "# krx_inv에만 있는 것.\n",
    "only_krx_inv = krx_inv[~krx_inv['기호'].isin(krx_fdr['기호'])]\n",
    "print(only_krx_inv)"
   ]
  },
  {
   "cell_type": "code",
   "execution_count": null,
   "metadata": {},
   "outputs": [],
   "source": [
    "# krx_inv에만 있는 것을 krx_fdr에 추가한다.\n",
    "krx_fdr = pd.concat([krx_fdr, only_krx_inv])"
   ]
  },
  {
   "cell_type": "code",
   "execution_count": null,
   "metadata": {},
   "outputs": [],
   "source": [
    "# krx_fdr의 기호와 krx_inv의 기호를 비교.\n",
    "# krx_fdr에만 있는 것.\n",
    "only_krx_fdr = krx_fdr[~krx_fdr['기호'].isin(krx_inv['기호'])]\n",
    "print(only_krx_fdr)\n",
    "# -> 일반주(보통주)와 우선주의 문제인데, 일단 우선주도 다 살린다."
   ]
  },
  {
   "cell_type": "code",
   "execution_count": null,
   "metadata": {},
   "outputs": [],
   "source": [
    "# only_krx_fdr을 전부 krx_inv에 추가한다.\n",
    "krx_inv = pd.concat([krx_inv, only_krx_fdr])"
   ]
  },
  {
   "cell_type": "code",
   "execution_count": null,
   "metadata": {},
   "outputs": [],
   "source": [
    "# 다시 krx_inv와 krx_fdr 비교하여 서로 열 개수가 같음을 확인.\n",
    "print(krx_inv.shape)\n",
    "print(krx_fdr.shape)"
   ]
  },
  {
   "cell_type": "code",
   "execution_count": null,
   "metadata": {},
   "outputs": [],
   "source": [
    "# 두 데이터프레임을 기호를 기준으로 합친다.\n",
    "kr = pd.merge(krx_inv, krx_fdr, on='기호', how='outer')\n",
    "kr"
   ]
  },
  {
   "cell_type": "code",
   "execution_count": null,
   "metadata": {},
   "outputs": [],
   "source": [
    "# 종목명_x와 종목명_y가 서로 다른 것을 확인.\n",
    "kr[kr['종목명_x'] != kr['종목명_y']]\n",
    "# -> 단순 영한 번역의 차이로 생긴 문제이다."
   ]
  },
  {
   "cell_type": "code",
   "execution_count": null,
   "metadata": {},
   "outputs": [],
   "source": [
    "kr.columns = ['종목명', '기호', '거래소', '종목명2', '거래소2']\n",
    "kr.drop(['종목명2', '거래소2'], axis=1, inplace=True)\n",
    "# 종목명을 기준으로 정렬한다.\n",
    "kr.sort_values('종목명', inplace=True)\n",
    "kr.reset_index(drop=True, inplace=True)\n",
    "kr"
   ]
  },
  {
   "cell_type": "code",
   "execution_count": null,
   "metadata": {},
   "outputs": [],
   "source": [
    "# 섹터 데이터 불러오기\n",
    "kosdaq_sector = pd.read_csv('stock_codes/kosdaq_sector.csv')\n",
    "kospi_sector = pd.read_csv('stock_codes/kospi_sector.csv')"
   ]
  },
  {
   "cell_type": "code",
   "execution_count": null,
   "metadata": {},
   "outputs": [],
   "source": [
    "# 섹터 데이터 중복 데이터 확인\n",
    "print(kosdaq_sector['기호'].duplicated().sum())\n",
    "print(kospi_sector['기호'].duplicated().sum())"
   ]
  },
  {
   "cell_type": "code",
   "execution_count": null,
   "metadata": {},
   "outputs": [],
   "source": [
    "# 중복 데이터를 불러온다.\n",
    "print(kosdaq_sector[kosdaq_sector['기호'].duplicated(keep=False)].sort_values('기호'))\n",
    "print(kospi_sector[kospi_sector['기호'].duplicated(keep=False)].sort_values('기호'))"
   ]
  },
  {
   "cell_type": "code",
   "execution_count": null,
   "metadata": {},
   "outputs": [],
   "source": [
    "# 중복 데이터 제거\n",
    "kosdaq_sector.drop_duplicates(subset='기호', keep='first', inplace=True)\n",
    "kospi_sector.drop_duplicates(subset='기호', keep='first', inplace=True)"
   ]
  },
  {
   "cell_type": "code",
   "execution_count": null,
   "metadata": {},
   "outputs": [],
   "source": [
    "# kosdaq_sector와 kospi_sector를 합친다.\n",
    "kr_sector = pd.concat([kosdaq_sector, kospi_sector])\n",
    "kr_sector.reset_index(drop=True, inplace=True)\n",
    "# 종목명, 기호, 섹터 컬럼만 남긴다.\n",
    "kr_sector = kr_sector[['종목명', '기호', '섹터']]\n",
    "kr_sector"
   ]
  },
  {
   "cell_type": "code",
   "execution_count": null,
   "metadata": {},
   "outputs": [],
   "source": [
    "# kr과 kr_sector 비교.\n",
    "print(kr.shape)\n",
    "print(kr_sector.shape)"
   ]
  },
  {
   "cell_type": "code",
   "execution_count": null,
   "metadata": {},
   "outputs": [],
   "source": [
    "# kr의 기호와 kr_sector의 기호를 비교.\n",
    "# kr에만 있는 것.\n",
    "only_kr = kr[~kr['기호'].isin(kr_sector['기호'])]\n",
    "only_kr"
   ]
  },
  {
   "cell_type": "code",
   "execution_count": null,
   "metadata": {},
   "outputs": [],
   "source": [
    "# kr_sector에만 있는 것.\n",
    "only_kr_sector = kr_sector[~kr_sector['기호'].isin(kr['기호'])]\n",
    "only_kr_sector"
   ]
  },
  {
   "cell_type": "code",
   "execution_count": null,
   "metadata": {},
   "outputs": [],
   "source": [
    "# kr에만 있는 값(only_kr)을 제거한다.\n",
    "kr = kr.drop(only_kr.index)\n",
    "kr"
   ]
  },
  {
   "cell_type": "code",
   "execution_count": null,
   "metadata": {},
   "outputs": [],
   "source": [
    "# kr과 kr_sector을 합친다.\n",
    "kr = pd.merge(kr, kr_sector, on='기호', how='outer')\n",
    "kr"
   ]
  },
  {
   "cell_type": "code",
   "execution_count": null,
   "metadata": {},
   "outputs": [],
   "source": [
    "kr.columns = ['종목명', '기호', '거래소', '종목명2', '섹터']\n",
    "kr.drop(['종목명2'], axis=1, inplace=True)\n",
    "kr"
   ]
  },
  {
   "cell_type": "markdown",
   "metadata": {},
   "source": [
    "# 2. 미국 주식 리스팅 (섹터, 거래소 정보 포함)"
   ]
  },
  {
   "cell_type": "markdown",
   "metadata": {},
   "source": [
    "### investing.com에서 가져온 리스트/섹터 데이터 비교/전처리"
   ]
  },
  {
   "cell_type": "code",
   "execution_count": null,
   "metadata": {},
   "outputs": [],
   "source": [
    "nasdaq_inv = pd.read_csv('stock_codes/nasdaq_list_inv.csv')\n",
    "nyse_inv = pd.read_csv('stock_codes/nyse_list_inv.csv')\n",
    "nasdaq_sector = pd.read_csv('stock_codes/nasdaq_sector.csv')\n",
    "nyse_sector = pd.read_csv('stock_codes/nyse_sector.csv')"
   ]
  },
  {
   "cell_type": "code",
   "execution_count": null,
   "metadata": {},
   "outputs": [],
   "source": [
    "# 중복 데이터 확인\n",
    "print(nasdaq_inv['기호'].duplicated().sum())\n",
    "print(nyse_inv['기호'].duplicated().sum())\n",
    "print(nasdaq_sector['기호'].duplicated().sum())\n",
    "print(nyse_sector['기호'].duplicated().sum())"
   ]
  },
  {
   "cell_type": "code",
   "execution_count": null,
   "metadata": {},
   "outputs": [],
   "source": [
    "# 중복 데이터를 불러온다.\n",
    "print(nasdaq_inv[nasdaq_inv['기호'].duplicated(keep=False)].sort_values('기호'))\n",
    "print(nyse_inv[nyse_inv['기호'].duplicated(keep=False)].sort_values('기호'))\n",
    "print(nasdaq_sector[nasdaq_sector['기호'].duplicated(keep=False)].sort_values('기호'))\n",
    "print(nyse_sector[nyse_sector['기호'].duplicated(keep=False)].sort_values('기호'))\n",
    "# -> 모든 값이 같기 때문에 이 중복 데이터들은 제거한다."
   ]
  },
  {
   "cell_type": "code",
   "execution_count": null,
   "metadata": {},
   "outputs": [],
   "source": [
    "# 중복 데이터 제거\n",
    "nasdaq_inv.drop_duplicates(subset='기호', keep='first', inplace=True)\n",
    "nyse_inv.drop_duplicates(subset='기호', keep='first', inplace=True)\n",
    "nasdaq_sector.drop_duplicates(subset='기호', keep='first', inplace=True)\n",
    "nyse_sector.drop_duplicates(subset='기호', keep='first', inplace=True)"
   ]
  },
  {
   "cell_type": "code",
   "execution_count": null,
   "metadata": {},
   "outputs": [],
   "source": [
    "# nasdaq_inv와 nasdaq_sector의 기호를 비교한다.\n",
    "print(nasdaq_inv.shape)\n",
    "print(nasdaq_sector.shape)"
   ]
  },
  {
   "cell_type": "code",
   "execution_count": null,
   "metadata": {},
   "outputs": [],
   "source": [
    "# nasdaq_inv에만 있는 것.\n",
    "only_nasdaq_inv = nasdaq_inv[~nasdaq_inv['기호'].isin(nasdaq_sector['기호'])]\n",
    "only_nasdaq_inv"
   ]
  },
  {
   "cell_type": "code",
   "execution_count": null,
   "metadata": {},
   "outputs": [],
   "source": [
    "# nasdaq_sector에만 있는 것.\n",
    "only_nasdaq_sector = nasdaq_sector[~nasdaq_sector['기호'].isin(nasdaq_inv['기호'])]\n",
    "only_nasdaq_sector"
   ]
  },
  {
   "cell_type": "code",
   "execution_count": null,
   "metadata": {},
   "outputs": [],
   "source": [
    "# nasdaq_inv에만 있는 값(ony_nasdaq_inv)을 제거한다.\n",
    "nasdaq_inv = nasdaq_inv.drop(only_nasdaq_inv.index)\n",
    "nasdaq_inv"
   ]
  },
  {
   "cell_type": "code",
   "execution_count": null,
   "metadata": {},
   "outputs": [],
   "source": [
    "# nasdaq_inv에 거래소 컬럼을 추가하고 거래소 이름을 넣는다.\n",
    "nasdaq_inv['거래소'] = 'NASDAQ'\n",
    "# nasdaq_inv에서 '종목명'과 '기호', '거래소' 컬럼만 남긴다.\n",
    "nasdaq_inv = nasdaq_inv[['종목명', '기호', '거래소']]\n",
    "# nasdaq_sector에서 '종목명'과 '기호', '섹터' 컬럼만 남긴다.\n",
    "nasdaq_sector = nasdaq_sector[['종목명', '기호', '섹터']]\n",
    "# nasdaq_sector와 nasdaq_inv를 기호를 기준으로 합친다.\n",
    "nasdaq = pd.merge(nasdaq_inv, nasdaq_sector, on='기호', how='outer')\n",
    "nasdaq"
   ]
  },
  {
   "cell_type": "code",
   "execution_count": null,
   "metadata": {},
   "outputs": [],
   "source": [
    "nasdaq.columns = ['종목명', '기호', '거래소', '종목명2', '섹터']\n",
    "nasdaq.drop(['종목명2'], axis=1, inplace=True)\n",
    "# 기호 기준으로 정렬한다.\n",
    "nasdaq.sort_values('기호', inplace=True)\n",
    "nasdaq.reset_index(drop=True, inplace=True)\n",
    "nasdaq"
   ]
  },
  {
   "cell_type": "code",
   "execution_count": null,
   "metadata": {},
   "outputs": [],
   "source": [
    "# nyse_inv와 nyse_sector의 기호를 비교한다.\n",
    "print(nyse_inv.shape)\n",
    "print(nyse_sector.shape)"
   ]
  },
  {
   "cell_type": "code",
   "execution_count": null,
   "metadata": {},
   "outputs": [],
   "source": [
    "# nyse_inv에만 있는 것.\n",
    "only_nyse_inv = nyse_inv[~nyse_inv['기호'].isin(nyse_sector['기호'])]\n",
    "print(only_nyse_inv.shape)\n",
    "only_nyse_inv"
   ]
  },
  {
   "cell_type": "code",
   "execution_count": null,
   "metadata": {},
   "outputs": [],
   "source": [
    "# nyse_sector에만 있는 것.\n",
    "only_nyse_sector = nyse_sector[~nyse_sector['기호'].isin(nyse_inv['기호'])]\n",
    "only_nyse_sector"
   ]
  },
  {
   "cell_type": "code",
   "execution_count": null,
   "metadata": {},
   "outputs": [],
   "source": [
    "# nyse_inv에만 있는 값(ony_nyse_inv)을 제거한다.\n",
    "nyse_inv = nyse_inv.drop(only_nyse_inv.index)\n",
    "nyse_inv"
   ]
  },
  {
   "cell_type": "code",
   "execution_count": null,
   "metadata": {},
   "outputs": [],
   "source": [
    "# nyse_inv에 거래소 컬럼을 추가하고 거래소 이름을 넣는다.\n",
    "nyse_inv['거래소'] = 'NYSE'\n",
    "# nyse_inv에서 '종목명'과 '기호', '거래소' 컬럼만 남긴다.\n",
    "nyse_inv = nyse_inv[['종목명', '기호', '거래소']]\n",
    "# nyse_sector에서 '종목명'과 '기호', '섹터' 컬럼만 남긴다.\n",
    "nyse_sector = nyse_sector[['종목명', '기호', '섹터']]\n",
    "# nyse_sector와 nyse_inv를 기호를 기준으로 합친다.\n",
    "nyse = pd.merge(nyse_inv, nyse_sector, on='기호', how='outer')\n",
    "nyse"
   ]
  },
  {
   "cell_type": "code",
   "execution_count": null,
   "metadata": {},
   "outputs": [],
   "source": [
    "nyse.columns = ['종목명', '기호', '거래소', '종목명2', '섹터']\n",
    "nyse.drop(['종목명2'], axis=1, inplace=True)\n",
    "# 기호 기준으로 정렬한다.\n",
    "nyse.sort_values('기호', inplace=True)\n",
    "nyse.reset_index(drop=True, inplace=True)\n",
    "nyse"
   ]
  },
  {
   "cell_type": "code",
   "execution_count": null,
   "metadata": {},
   "outputs": [],
   "source": [
    "# nasdaq, nyse 데이터프레임을 합친다.\n",
    "us = pd.concat([nasdaq, nyse])\n",
    "us"
   ]
  },
  {
   "cell_type": "markdown",
   "metadata": {},
   "source": [
    "# 3. CSV 저장"
   ]
  },
  {
   "cell_type": "code",
   "execution_count": null,
   "metadata": {},
   "outputs": [],
   "source": [
    "# kr, us 데이터프레임을 csv로 저장한다.\n",
    "kr.to_csv('stock_codes/kr_list_final.csv', index=False)\n",
    "us.to_csv('stock_codes/us_list_final.csv', index=False)"
   ]
  }
 ],
 "metadata": {
  "kernelspec": {
   "display_name": "Python 3 (ipykernel)",
   "language": "python",
   "name": "python3"
  },
  "language_info": {
   "codemirror_mode": {
    "name": "ipython",
    "version": 3
   },
   "file_extension": ".py",
   "mimetype": "text/x-python",
   "name": "python",
   "nbconvert_exporter": "python",
   "pygments_lexer": "ipython3",
   "version": "3.11.9"
  }
 },
 "nbformat": 4,
 "nbformat_minor": 4
}
