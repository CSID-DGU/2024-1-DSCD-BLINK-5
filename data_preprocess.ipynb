{
 "cells": [
  {
   "cell_type": "code",
   "execution_count": null,
   "id": "9b1d628b-047e-492c-8fbd-91967f933e22",
   "metadata": {},
   "outputs": [],
   "source": [
    "import os\n",
    "import torch\n",
    "import torch.nn as nn\n",
    "import numpy as np\n",
    "import pandas as pd\n",
    "from glob import glob\n",
    "from tqdm import tqdm\n",
    "import random\n",
    "\n",
    "import matplotlib.pyplot as plt\n",
    "%matplotlib inline"
   ]
  },
  {
   "cell_type": "code",
   "execution_count": null,
   "id": "3d648928-fbc9-4eb4-9693-5731da4b0f30",
   "metadata": {},
   "outputs": [],
   "source": [
    "BASE_DATA_DIR = 'stock_data'\n",
    "NATION = 'us' # 'kr', 'us'\n",
    "MARKET = 'nyse' # 'kospi', 'kosdaq', 'nasdaq', 'nyse'\n",
    "CLOSE_COL_NAME = 'Close'\n",
    "DATA_DIR = f'{BASE_DATA_DIR}/{NATION}/{MARKET}/{MARKET}_each/*.csv'\n",
    "SAVE_DIR = f'{BASE_DATA_DIR}/refined_data/{NATION}/{MARKET}'\n",
    "SEED=42"
   ]
  },
  {
   "cell_type": "code",
   "execution_count": null,
   "id": "72c2d5dc-07cb-4df5-8226-43fa03ab7e4e",
   "metadata": {},
   "outputs": [],
   "source": [
    "item_list = sorted(glob(DATA_DIR))\n",
    "required_dates = None\n",
    "for idx, item_dir in enumerate(tqdm(item_list)):\n",
    "    item = pd.read_csv(item_dir)\n",
    "    dates = item.values[:, 0]\n",
    "    dates = list(map(lambda x: x.split(' ')[0], dates))\n",
    "    try:\n",
    "        if required_dates is None:\n",
    "            required_dates = dates\n",
    "        else:\n",
    "            required_dates = np.concatenate([required_dates, dates])\n",
    "    except:\n",
    "        print(item_dir)"
   ]
  },
  {
   "cell_type": "code",
   "execution_count": null,
   "id": "45de7d07-f21a-49d6-ada2-49d83af5a017",
   "metadata": {},
   "outputs": [],
   "source": [
    "required_dates = sorted(list(set(required_dates)))\n",
    "len(required_dates)"
   ]
  },
  {
   "cell_type": "code",
   "execution_count": null,
   "id": "8ad64f11-8ddd-4a1b-9776-208dbcfbbf26",
   "metadata": {
    "scrolled": true
   },
   "outputs": [],
   "source": [
    "for idx, item_dir in enumerate(tqdm(item_list)):\n",
    "    item = pd.read_csv(item_dir)\n",
    "    basename = os.path.basename(item_dir)\n",
    "    try:\n",
    "        item['Date'] = item['Date'].map(lambda x: x.split(' ')[0])\n",
    "        item.set_index('Date', inplace=True)\n",
    "        item_reindexed = item.reindex(required_dates, fill_value=0)\n",
    "        item_reindexed.to_csv(f'{SAVE_DIR}/{basename}')\n",
    "    except:\n",
    "        print(item_dir)"
   ]
  }
 ],
 "metadata": {
  "kernelspec": {
   "display_name": "Python 3 (ipykernel)",
   "language": "python",
   "name": "python3"
  },
  "language_info": {
   "codemirror_mode": {
    "name": "ipython",
    "version": 3
   },
   "file_extension": ".py",
   "mimetype": "text/x-python",
   "name": "python",
   "nbconvert_exporter": "python",
   "pygments_lexer": "ipython3",
   "version": "3.11.9"
  }
 },
 "nbformat": 4,
 "nbformat_minor": 5
}
